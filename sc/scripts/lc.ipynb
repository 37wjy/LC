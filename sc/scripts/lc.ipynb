{
 "metadata": {
  "language_info": {
   "codemirror_mode": {
    "name": "ipython",
    "version": 3
   },
   "file_extension": ".py",
   "mimetype": "text/x-python",
   "name": "python",
   "nbconvert_exporter": "python",
   "pygments_lexer": "ipython3",
   "version": "3.8.5-final"
  },
  "orig_nbformat": 2,
  "kernelspec": {
   "name": "python3",
   "display_name": "Python 3.8.5 64-bit ('base': conda)",
   "metadata": {
    "interpreter": {
     "hash": "c72463ebdae91e6a53b16c8fee96c7ededb03c6c7334bc74a1390066d9966867"
    }
   }
  }
 },
 "nbformat": 4,
 "nbformat_minor": 2,
 "cells": [
  {
   "source": [
    "给定一个非负整数 num。对于 0 ≤ i ≤ num 范围中的每个数字 i ，计算其二进制数中的 1 的数目并将它们作为数组返回\n",
    "\n",
    "给出时间复杂度为O(n*sizeof(integer))的解答非常容易。但你可以在线性时间O(n)内用一趟扫描做到吗？\n",
    "要求算法的空间复杂度为O(n)。"
   ],
   "cell_type": "markdown",
   "metadata": {}
  },
  {
   "cell_type": "code",
   "execution_count": null,
   "metadata": {},
   "outputs": [],
   "source": [
    "from typing import List\n",
    "def countBits( num: int) -> List[int]:\n",
    "    res = [0]\n",
    "    for i in range(1,num+1):\n",
    "        print(f'{i} : {res[i >> 1]} + {i & 1} -> {res[i >> 1] + (i & 1)}')\n",
    "        res.append( res[i >> 1] + (i & 1) )\n",
    "    return res\n",
    "\n",
    "countBits(4)\n"
   ]
  },
  {
   "source": [
    "给定两个大小分别为 m 和 n 的正序（从小到大）数组 nums1 和 nums2。请你找出并返回这两个正序数组的 中位数 。\n",
    "\n",
    "递归可优化"
   ],
   "cell_type": "markdown",
   "metadata": {}
  },
  {
   "cell_type": "code",
   "execution_count": 3,
   "metadata": {},
   "outputs": [
    {
     "output_type": "execute_result",
     "data": {
      "text/plain": [
       "1"
      ]
     },
     "metadata": {},
     "execution_count": 3
    }
   ],
   "source": [
    "from typing import List\n",
    "class Solution:\n",
    "    def findMedianSortedArrays(self, nums1: List[int], nums2: List[int]) -> float:\n",
    "        lenth = len(nums1) + len(nums2)\n",
    "        if lenth % 2 : return self.findk(lenth >> 1 + 1,nums1,nums2,0,0)\n",
    "        else : return (self.findk(lenth >> 1 + 1,nums1,nums2,0,0) + self.findk(lenth >> 1,nums1,nums2,0,0)) / 2.0\n",
    "\n",
    "    def findk(self, k: int, nums1: List[int], nums2: List[int], p1: int, p2: int ) -> float:\n",
    "        if p1 >= len(nums1) : return nums2[p2+k-1]\n",
    "        if p2 >= len(nums2) : return nums1[p1+k-1]\n",
    "        \n",
    "        if k==1 : return min(nums1[p1], nums2[p2])\n",
    "        k2 = min ( k>>1 , len(nums1) - p1 , len(nums2) - p2 )\n",
    "\n",
    "        if nums1[ p1 + k2 - 1 ] < nums2[ p2 + k2 - 1 ] : return self.findk(k-k2, nums1, nums2, p1+k2, p2)\n",
    "        else : return self.findk(k-k2, nums1, nums2, p1, p2+k2)\n",
    "\n",
    "s=Solution()\n",
    "s.findMedianSortedArrays([1,3],[2])\n"
   ]
  },
  {
   "cell_type": "code",
   "execution_count": null,
   "metadata": {},
   "outputs": [],
   "source": []
  }
 ]
}